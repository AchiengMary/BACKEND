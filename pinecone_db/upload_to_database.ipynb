{
 "cells": [
  {
   "cell_type": "code",
   "execution_count": 1,
   "metadata": {},
   "outputs": [],
   "source": [
    "import os\n",
    "os.chdir(\"../\")"
   ]
  },
  {
   "cell_type": "code",
   "execution_count": 3,
   "metadata": {},
   "outputs": [
    {
     "data": {
      "text/plain": [
       "'C:\\\\Users\\\\Administrator\\\\Desktop\\\\SolarHotWaterSolution\\\\F1-Backend'"
      ]
     },
     "execution_count": 3,
     "metadata": {},
     "output_type": "execute_result"
    }
   ],
   "source": [
    "%pwd"
   ]
  },
  {
   "cell_type": "code",
   "execution_count": 5,
   "metadata": {},
   "outputs": [],
   "source": [
    "from langchain.document_loaders import PyPDFLoader, DirectoryLoader\n",
    "from langchain.text_splitter import RecursiveCharacterTextSplitter\n"
   ]
  },
  {
   "cell_type": "code",
   "execution_count": 6,
   "metadata": {},
   "outputs": [],
   "source": [
    "#Extract Data From the PDF File\n",
    "def load_pdf_file(data):\n",
    "    loader= DirectoryLoader(data,\n",
    "                            glob=\"*.pdf\",\n",
    "                            loader_cls=PyPDFLoader)\n",
    "\n",
    "    documents=loader.load()\n",
    "\n",
    "    return documents\n"
   ]
  },
  {
   "cell_type": "code",
   "execution_count": 7,
   "metadata": {},
   "outputs": [],
   "source": [
    "extracted_data=load_pdf_file(data='Data/')\n"
   ]
  },
  {
   "cell_type": "code",
   "execution_count": 11,
   "metadata": {},
   "outputs": [],
   "source": [
    "#Spliat the Data into Text Chunks\n",
    "def text_split(extracted_data):\n",
    "    text_splitter=RecursiveCharacterTextSplitter(chunk_size=1000, chunk_overlap=20)\n",
    "    text_chunks=text_splitter.split_documents(extracted_data)\n",
    "    return text_chunks"
   ]
  },
  {
   "cell_type": "code",
   "execution_count": 13,
   "metadata": {},
   "outputs": [
    {
     "name": "stdout",
     "output_type": "stream",
     "text": [
      "Length of Text Chunks 21\n"
     ]
    }
   ],
   "source": [
    "text_chunks=text_split(extracted_data)\n",
    "print(\"Length of Text Chunks\", len(text_chunks))\n"
   ]
  },
  {
   "cell_type": "code",
   "execution_count": 15,
   "metadata": {},
   "outputs": [],
   "source": [
    "from langchain_openai  import OpenAIEmbeddings"
   ]
  },
  {
   "cell_type": "code",
   "execution_count": 16,
   "metadata": {},
   "outputs": [
    {
     "data": {
      "text/plain": [
       "True"
      ]
     },
     "execution_count": 16,
     "metadata": {},
     "output_type": "execute_result"
    }
   ],
   "source": [
    "from dotenv import load_dotenv\n",
    "load_dotenv()"
   ]
  },
  {
   "cell_type": "code",
   "execution_count": 19,
   "metadata": {},
   "outputs": [],
   "source": [
    "PINECONE_API_KEY=os.environ.get('PINECONE_API_KEY')\n",
    "OPENAI_API_KEY=os.environ.get('OPENAI_API_KEY')"
   ]
  },
  {
   "cell_type": "code",
   "execution_count": 21,
   "metadata": {},
   "outputs": [
    {
     "name": "stdout",
     "output_type": "stream",
     "text": [
      "pcsk_5MJnqE_MDFbtp5aVBAmPyPN2N8HzFdoAMQWUiRrbzei6GYi6CjRcQkiimBGw2G6sRqXmhw\n"
     ]
    }
   ],
   "source": [
    "print(PINECONE_API_KEY)\n"
   ]
  },
  {
   "cell_type": "code",
   "execution_count": 23,
   "metadata": {},
   "outputs": [
    {
     "name": "stdout",
     "output_type": "stream",
     "text": [
      "Length 1536\n"
     ]
    }
   ],
   "source": [
    "def download_openai_embeddings():\n",
    "    \"\"\"Downloads and returns OpenAI embeddings.\"\"\"\n",
    "    embeddings = OpenAIEmbeddings()\n",
    "    return embeddings\n",
    "\n",
    "\n",
    "embeddings = download_openai_embeddings()\n",
    "\n",
    "query_result = embeddings.embed_query(\"Hello world\")\n",
    "print(\"Length\", len(query_result))"
   ]
  },
  {
   "cell_type": "code",
   "execution_count": 29,
   "metadata": {},
   "outputs": [],
   "source": [
    "from pinecone.grpc import PineconeGRPC as Pinecone\n",
    "from pinecone import ServerlessSpec\n",
    "import os\n",
    "\n",
    "pc = Pinecone(api_key=PINECONE_API_KEY)\n",
    "\n",
    "index_name = \"davisandshirliff\"\n",
    "\n",
    "\n",
    "pc.create_index(\n",
    "    name=index_name,\n",
    "    dimension=1536, \n",
    "    metric=\"cosine\", \n",
    "    spec=ServerlessSpec(\n",
    "        cloud=\"aws\", \n",
    "        region=\"us-east-1\"\n",
    "    ) \n",
    ") "
   ]
  },
  {
   "cell_type": "code",
   "execution_count": 30,
   "metadata": {},
   "outputs": [],
   "source": [
    "index_name = \"davisandshirliff\""
   ]
  },
  {
   "cell_type": "code",
   "execution_count": 31,
   "metadata": {},
   "outputs": [],
   "source": [
    "# Embed each chunk and upsert the embeddings into your Pinecone index.\n",
    "from langchain_pinecone import PineconeVectorStore\n",
    "\n",
    "docsearch = PineconeVectorStore.from_documents(\n",
    "    documents=text_chunks,\n",
    "    index_name=index_name,\n",
    "    embedding=embeddings, \n",
    ")"
   ]
  },
  {
   "cell_type": "code",
   "execution_count": 35,
   "metadata": {},
   "outputs": [],
   "source": [
    "# Load Existing index \n",
    "\n",
    "from langchain_pinecone import PineconeVectorStore\n",
    "# Embed each chunk and upsert the embeddings into your Pinecone index.\n",
    "docsearch = PineconeVectorStore.from_existing_index(\n",
    "    index_name=index_name,\n",
    "    embedding=embeddings\n",
    ")"
   ]
  },
  {
   "cell_type": "code",
   "execution_count": 37,
   "metadata": {},
   "outputs": [],
   "source": [
    "retriever = docsearch.as_retriever(search_type=\"similarity\", search_kwargs={\"k\":3})"
   ]
  },
  {
   "cell_type": "code",
   "execution_count": 39,
   "metadata": {},
   "outputs": [],
   "source": [
    "retrieved_docs = retriever.invoke(\"Ultrasun UF X300I Solar Water Heating System?\")"
   ]
  },
  {
   "cell_type": "code",
   "execution_count": 41,
   "metadata": {},
   "outputs": [
    {
     "data": {
      "text/plain": [
       "[Document(id='e92f099c-428d-4828-9435-bfb1d9432c1c', metadata={'page': 0.0, 'source': 'Data\\\\Ultrasun UFX.pdf'}, page_content='• Galvanised mounting frame for both flat or inclined roof installations that ensures high durability in all weather conditions \\nUltrasun UFX Flatplate  solar systems are available in various tank sizes and collector configurations to suit domestic and small- scale \\ninstallation applications. They are efficient and robust products guaranteed for five years to demonstrate the high material specification. \\nDesigned for many years of trouble free operations, they are the ideal solution for all solar water heating applications.  \\nSPECIFICA TIONS\\nWater Quality: Water outside the following limits should be appropriately pre-treated, \\nDirect : Clarity : clear, TDS<600mg/l, Hardness <200mg/l CaCO Saturation Index: >0.8<1.0  3, \\nIndirect:  Clarity:  clear, TDS: <1500mg/l,  Hardness:  <400mg/l CaCo , Saturation Index: >0.8<1.0 3\\nMax. Operating Pressure: 6 Bar for Open Loop, 3 Bar for Closed Loop3\\nMax Flow Rate: 2m/hr\\nTest Pressure: Tank: 8 Bar, Collector: 10 Bar\\nNOTE'),\n",
       " Document(id='52b451fd-eb10-47ec-8655-3dafc06860e7', metadata={'page': 0.0, 'source': 'Data\\\\Ultrasun UFX.pdf'}, page_content='21\\n5\\n673\\n4\\nModel\\nTypical Household (P eople)UFX 160D/I\\n4160UFX 200D/I\\n5200\\n8300 System T ank Size (Litres)UFX 300D/I\\nCollector Model\\nMax Heat Output/Day (kWhrs)Collector Fluid Capacity (litres)\\nMin Heat Output/Day (kWhrs)Collector W eight (kg)2\\nCollector Area (m ) 2.0 2.0\\n1.3 1.3\\n13.6 1430 30\\n10.8\\n1021\\n105711\\n1961\\n2700\\n12574.0\\n2.6\\n29.460\\n21.6\\n2142\\n1857A\\nB\\nC\\nD\\nE\\nFull W eight (kg)Empty W eight (kg)F1x HP200 2 x HP200Dimensions(mm)1 x HP200\\n600\\n700\\n87/97 96/108\\n247/257 296/308Ultrasun UFX Flatplate solar hot water systems are high specification thermosyphon type hot water heaters designed for long life operation in \\nextreme conditions. Options are available for direct and indirect systems, direct system heat the water directly through the collector and indirect \\nsystems separate the collector flow water from the through flow water, heat being transferred through the tank jacket. This is suitable for'),\n",
       " Document(id='2be3743c-8306-48ef-8823-fae309e31a6b', metadata={'page': 0.0, 'source': 'Data\\\\Ultrasun UVT.pdf'}, page_content='Dimensions in mm\\nSolar R adiation\\nWorking P rincipleCold W aterHot W ateropen to air\\n1895\\n851\\n1702(1994)Ø472(1512)\\n(1120)\\n23\"(677)Working Principle\\nUltrasun UVT VacTube Vacuum Tube solar hot water systems are the most efficient water heating systems available. Solar energy is \\ncaptured in the vacuum sealed glass void heating the water in the glass tube. The heated water rises to the top of the pipe and \\ncollects in the tank. The large surface area of the vacuum tube and high water turbulence within the internal chamber provide rapid \\ntransfer of heat to the water flowing through the tank. The sealed evacuated tubes and tri-oxide coating provide maximum solar \\ngain even in the coldest areas and during cloudy or overcast days. System features include;\\nŸIndividual high efficiency concentric tube and glass heating elements\\nŸStorage tank comprising a stainless steel inner cylinder , plastic painted insulated galvanised external casing and 1.5kW \\nheating element')]"
      ]
     },
     "execution_count": 41,
     "metadata": {},
     "output_type": "execute_result"
    }
   ],
   "source": [
    "retrieved_docs"
   ]
  },
  {
   "cell_type": "code",
   "execution_count": 47,
   "metadata": {},
   "outputs": [],
   "source": [
    "from langchain_openai import OpenAI\n",
    "llm = OpenAI(temperature=0.4, max_tokens=500)"
   ]
  },
  {
   "cell_type": "code",
   "execution_count": 48,
   "metadata": {},
   "outputs": [],
   "source": [
    "from langchain.chains import create_retrieval_chain\n",
    "from langchain.chains.combine_documents import create_stuff_documents_chain\n",
    "from langchain_core.prompts import ChatPromptTemplate"
   ]
  },
  {
   "cell_type": "code",
   "execution_count": 51,
   "metadata": {},
   "outputs": [],
   "source": [
    "system_prompt = (\n",
    "    \"You are an assistant for question-answering tasks. \"\n",
    "    \"Use the following pieces of retrieved context to answer \"\n",
    "    \"the question. If you don't know the answer, say that you \"\n",
    "    \"don't know. Use three sentences maximum and keep the \"\n",
    "    \"answer concise.\"\n",
    "    \"\\n\\n\"\n",
    "    \"{context}\"\n",
    ")"
   ]
  },
  {
   "cell_type": "code",
   "execution_count": 53,
   "metadata": {},
   "outputs": [],
   "source": [
    "prompt = ChatPromptTemplate.from_messages(\n",
    "    [\n",
    "        (\"system\", system_prompt),\n",
    "        (\"human\", \"{input}\"),\n",
    "    ]\n",
    ")"
   ]
  },
  {
   "cell_type": "code",
   "execution_count": 55,
   "metadata": {},
   "outputs": [],
   "source": [
    "question_answer_chain = create_stuff_documents_chain(llm, prompt)\n",
    "rag_chain = create_retrieval_chain(retriever, question_answer_chain)"
   ]
  },
  {
   "cell_type": "code",
   "execution_count": 59,
   "metadata": {},
   "outputs": [
    {
     "name": "stdout",
     "output_type": "stream",
     "text": [
      "\n",
      "\n",
      "The Ultrasun UFX300I Solar Water Heating System is a high specification thermosyphon type hot water heater designed for long life operation in extreme conditions. It is available in both direct and indirect options, with the direct system heating the water directly through the collector and the indirect system separating the collector flow water from the through flow water. This system is suitable for both domestic and small-scale installation applications and is guaranteed for five years. It is designed for trouble-free operation and is efficient and robust.\n"
     ]
    }
   ],
   "source": [
    "response = rag_chain.invoke({\"input\": \"Tell me more about Ultrasun UF X300I Solar Water Heating System. \"})\n",
    "print(response[\"answer\"])"
   ]
  }
 ],
 "metadata": {
  "kernelspec": {
   "display_name": "Python 3 (ipykernel)",
   "language": "python",
   "name": "python3"
  },
  "language_info": {
   "codemirror_mode": {
    "name": "ipython",
    "version": 3
   },
   "file_extension": ".py",
   "mimetype": "text/x-python",
   "name": "python",
   "nbconvert_exporter": "python",
   "pygments_lexer": "ipython3",
   "version": "3.12.4"
  }
 },
 "nbformat": 4,
 "nbformat_minor": 4
}
